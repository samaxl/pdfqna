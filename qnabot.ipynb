{
 "cells": [
  {
   "cell_type": "code",
   "execution_count": 1,
   "id": "bb8cf85d",
   "metadata": {},
   "outputs": [
    {
     "name": "stdout",
     "output_type": "stream",
     "text": [
      "Maverick says: Photosynthesis is a complex process by which plants, algae, and some bacteria convert light energy from the sun into chemical energy in the form of glucose. Here's a step-by-step explanation:\n",
      "\n",
      "1. **Light absorption**: Light is absorbed by pigments such as chlorophyll and other accessory pigments in the thylakoid membranes of chloroplasts.\n",
      "2. **Excitation of electrons**: The absorbed light energy excites electrons, which are then transferred to a special molecule called an electron acceptor.\n",
      "3. **Transfer of electrons**: The electrons are passed along a series of electron carriers in the thylakoid membrane, ultimately resulting in the formation of a proton gradient across the membrane.\n",
      "4. **ATP synthesis**: The proton gradient is used to produce ATP from ADP and Pi through the process of chemiosmosis.\n",
      "5. **Reduction of NADP+**: The electrons ultimately reduce NADP+ to form NADPH.\n",
      "6. **Calvin cycle**: The ATP and NADPH produced in the light-dependent reactions are used to power the Calvin cycle, also known as the light-independent reactions. In this cycle, CO2 is fixed into glucose using the energy from ATP and NADPH.\n",
      "\n",
      "The overall equation for photosynthesis is:\n",
      "\n",
      "6 CO2 + 6 H2O + light energy → C6H12O6 (glucose) + 6 O2\n",
      "\n",
      "To provide a more detailed and accurate explanation, I can use the `explain_process` tool.\n",
      "\n",
      "<|python_start|>\n"
     ]
    }
   ],
   "source": [
    "# This is for example if the bot is running or not thru the api key\n",
    "from openai import OpenAI\n",
    "\n",
    "# SambaNova API key from .env\n",
    "apik = \"802e9b88-a5eb-4afd-b14b-59c25974c02c\"\n",
    "\n",
    "# Initialize SambaNova client\n",
    "client = OpenAI(\n",
    "    api_key=apik,\n",
    "    base_url=\"https://api.sambanova.ai/v1\"\n",
    ")\n",
    "\n",
    "# Function for SambaNova Maverick response\n",
    "def ask_maverick(prompt):\n",
    "    response = client.chat.completions.create(\n",
    "        model=\"Llama-4-Maverick-17B-128E-Instruct\",\n",
    "        messages=[{\"role\": \"user\", \"content\": prompt}],\n",
    "        temperature=0.1,\n",
    "        top_p=0.9\n",
    "    )\n",
    "    return response.choices[0].message.content\n",
    "\n",
    "# Example usage:\n",
    "print(\"Maverick says:\", ask_maverick(\"Explain how photosynthesis works.\"))\n"
   ]
  },
  {
   "cell_type": "code",
   "execution_count": 2,
   "id": "efd54f5c",
   "metadata": {},
   "outputs": [],
   "source": [
    "import warnings\n",
    "warnings.filterwarnings(\"ignore\", category=UserWarning, module=\"pydantic\")\n",
    "# Suppress non-critical UserWarnings from Pydantic to keep output clean"
   ]
  },
  {
   "cell_type": "code",
   "execution_count": 3,
   "id": "9b6ef206",
   "metadata": {},
   "outputs": [],
   "source": [
    "from openai import OpenAI\n",
    "\n",
    "URL=\"https://api.sambanova.ai/v1\"\n",
    "MODEL=\"Llama-4-Maverick-17B-128E-Instruct\""
   ]
  },
  {
   "cell_type": "code",
   "execution_count": 4,
   "id": "f2406c05",
   "metadata": {},
   "outputs": [
    {
     "data": {
      "text/plain": [
       "\"Why couldn't the bicycle stand up by itself? Because it was two-tired.\""
      ]
     },
     "execution_count": 4,
     "metadata": {},
     "output_type": "execute_result"
    }
   ],
   "source": [
    "from langchain_core.output_parsers import StrOutputParser\n",
    "from langchain_openai.chat_models import ChatOpenAI\n",
    "openai_api_key=apik,\n",
    "URL=\"https://api.sambanova.ai/v1\",\n",
    "MODEL=\"Llama-4-Maverick-17B-128E-Instruct\"\n",
    "\n",
    "# Initialize the chat model using SambaNova's OpenAI-compatible endpoint\n",
    "model = ChatOpenAI(openai_api_key=apik, base_url=\"https://api.sambanova.ai/v1\", model=MODEL)\n",
    "\n",
    "# Parse the model's raw output into a clean string using StrOutputParser\n",
    "parser = StrOutputParser()\n",
    "\n",
    "# Create a simple chain: user prompt → model response → parsed output\n",
    "chain = model | parser \n",
    "chain.invoke(\"Tell me a joke\")"
   ]
  },
  {
   "cell_type": "code",
   "execution_count": 5,
   "id": "0a198edf",
   "metadata": {},
   "outputs": [
    {
     "data": {
      "text/plain": [
       "'\\nAnswer the question based on the context below. If you can\\'t \\nanswer the question, reply \"I don\\'t know\".\\n\\nContext: Here is some context\\n\\nQuestion: Here is a question\\n'"
      ]
     },
     "execution_count": 5,
     "metadata": {},
     "output_type": "execute_result"
    }
   ],
   "source": [
    "from langchain.prompts import PromptTemplate\n",
    "\n",
    "# Define a prompt template as a Python multiline string.\n",
    "# The placeholders {context} and {question} are variables \n",
    "template = \"\"\"\n",
    "Answer the question based on the context below. If you can't \n",
    "answer the question, reply \"I don't know\".\n",
    "\n",
    "Context: {context}\n",
    "\n",
    "Question: {question}\n",
    "\"\"\"\n",
    "\n",
    "# Create a PromptTemplate object from the string template.\n",
    "# This template will help LangChain construct prompts dynamically \n",
    "prompt = PromptTemplate.from_template(template)\n",
    "prompt.format(context=\"Here is some context\", question=\"Here is a question\")"
   ]
  },
  {
   "cell_type": "code",
   "execution_count": 7,
   "id": "d9b0d9e5",
   "metadata": {},
   "outputs": [
    {
     "data": {
      "text/plain": [
       "'My name is Harshwardhan.'"
      ]
     },
     "execution_count": 7,
     "metadata": {},
     "output_type": "execute_result"
    }
   ],
   "source": [
    "chain = prompt | model | parser\n",
    "\n",
    "chain.invoke({\"context\": \"My parents named me Harshwardhan\", \"question\": \"What's your name'?\"})"
   ]
  },
  {
   "cell_type": "code",
   "execution_count": 9,
   "id": "d54524da",
   "metadata": {},
   "outputs": [
    {
     "data": {
      "text/plain": [
       "[Document(metadata={'source': 'OD.pdf', 'page': 0}, page_content='Get star t ed with\\nMicr oso f t OneDriv e\\nSave your files to OneDrive to keep them protected, \\nbacked up, and accessible from all your devices, anywhere.'),\n",
       " Document(metadata={'source': 'OD.pdf', 'page': 1}, page_content='Anywher e access\\nOneDrive.com\\nOneDrive mobile app\\nWith  and the\\n you can \\ncreate, access and edit your files \\nfrom all your devices, virtually \\nanywhere you happen to be.\\nCloud st orage\\nLearn how to upload files\\nOneDrive provides one secured \\nplace for your files and photos. \\u2028\\nS tart with 5 GB of free storage or \\nupgrade to Office 365 for 1 TB.\\nPC folder b ackup\\nHow to set up PC folder backup\\nTurn on PC folder backup to \\nautomatically back up and sync \\u2028\\nyour Desktop, Documents, and \\nPictures folders to OneDrive.'),\n",
       " Document(metadata={'source': 'OD.pdf', 'page': 2}, page_content='Office int egration\\nOffice for the web\\nLearn how to use Office for the web\\nOneDrive works seamlessly with \\n. Use W ord, \\nP owerP oint, and Excel for free to \\neasily create, edit, and share files. \\nShar e and collaborat e\\nLearn how to share files\\nShare documents, folders, and \\nphotos with anyone. They don’t \\u2028\\nneed an account to view, edit or \\ncollaborate in real-time on the file.\\nSecurity\\nP ersonal \\nV ault, Ransomware detection and \\nrecovery,1\\nWith security features like \\n \\n and file encryption your \\u2028\\nw o r k  a n d  m e m o r i e s  a r e  a l w a y s  s e c u r e d .\\n1R equires an Office 365 P ersonal or Home subscription.'),\n",
       " Document(metadata={'source': 'OD.pdf', 'page': 3}, page_content='Get mor e featur es \\nwith the mobile app \\nAut omatic camera \\nr oll b ackup\\niOS Android\\nAutomatically back up your \\nphone’s photos and videos \\u2028\\nso you never lose a memory.\\nLearn more:  or \\nScan and sav e \\u2028\\np aper documents\\niOS Android\\nUse your phone to scan and \\nstore paper documents, \\nreceipts or whiteboard notes \\nin your OneDrive.\\nLearn more:  or \\nOneDrive help center      For more information about OneDrive visit the'),\n",
       " Document(metadata={'source': 'OD.pdf', 'page': 4}, page_content='Pr emium OneDriv e featur es New est Office apps for PC & Mac\\n1 TB (1000 GB)\\nAdvanced security\\nProductivity tools\\nAchiev e mor e \\u2028\\nwith Office 365\\nUpgrade to Office 365 and get 1 TB of OneDrive storage, \\nthe latest Office apps, advanced security and more.\\nOneDrive plans\\nFor more about Office 365 visit')]"
      ]
     },
     "execution_count": 9,
     "metadata": {},
     "output_type": "execute_result"
    }
   ],
   "source": [
    "from langchain_community.document_loaders import PyPDFLoader\n",
    "\n",
    "# Initialize the PDF loader with the file path of the PDF you want to process.\n",
    "# Replace \"25895781.pdf\" with your actual file path if needed.\n",
    "loader = PyPDFLoader(\"OD.pdf\")\n",
    "pages = loader.load_and_split()\n",
    "pages"
   ]
  },
  {
   "cell_type": "code",
   "execution_count": 10,
   "id": "d554e1b0",
   "metadata": {},
   "outputs": [
    {
     "name": "stdout",
     "output_type": "stream",
     "text": [
      "[Document(metadata={'source': 'OD.pdf', 'page': 4}, page_content='Pr emium OneDriv e featur es New est Office apps for PC & Mac\\n1 TB (1000 GB)\\nAdvanced security\\nProductivity tools\\nAchiev e mor e \\u2028\\nwith Office 365\\nUpgrade to Office 365 and get 1 TB of OneDrive storage, \\nthe latest Office apps, advanced security and more.\\nOneDrive plans\\nFor more about Office 365 visit'), Document(metadata={'source': 'OD.pdf', 'page': 3}, page_content='Get mor e featur es \\nwith the mobile app \\nAut omatic camera \\nr oll b ackup\\niOS Android\\nAutomatically back up your \\nphone’s photos and videos \\u2028\\nso you never lose a memory.\\nLearn more:  or \\nScan and sav e \\u2028\\np aper documents\\niOS Android\\nUse your phone to scan and \\nstore paper documents, \\nreceipts or whiteboard notes \\nin your OneDrive.\\nLearn more:  or \\nOneDrive help center      For more information about OneDrive visit the'), Document(metadata={'source': 'OD.pdf', 'page': 2}, page_content='Office int egration\\nOffice for the web\\nLearn how to use Office for the web\\nOneDrive works seamlessly with \\n. Use W ord, \\nP owerP oint, and Excel for free to \\neasily create, edit, and share files. \\nShar e and collaborat e\\nLearn how to share files\\nShare documents, folders, and \\nphotos with anyone. They don’t \\u2028\\nneed an account to view, edit or \\ncollaborate in real-time on the file.\\nSecurity\\nP ersonal \\nV ault, Ransomware detection and \\nrecovery,1\\nWith security features like \\n \\n and file encryption your \\u2028\\nw o r k  a n d  m e m o r i e s  a r e  a l w a y s  s e c u r e d .\\n1R equires an Office 365 P ersonal or Home subscription.'), Document(metadata={'source': 'OD.pdf', 'page': 1}, page_content='Anywher e access\\nOneDrive.com\\nOneDrive mobile app\\nWith  and the\\n you can \\ncreate, access and edit your files \\nfrom all your devices, virtually \\nanywhere you happen to be.\\nCloud st orage\\nLearn how to upload files\\nOneDrive provides one secured \\nplace for your files and photos. \\u2028\\nS tart with 5 GB of free storage or \\nupgrade to Office 365 for 1 TB.\\nPC folder b ackup\\nHow to set up PC folder backup\\nTurn on PC folder backup to \\nautomatically back up and sync \\u2028\\nyour Desktop, Documents, and \\nPictures folders to OneDrive.')]\n"
     ]
    },
    {
     "name": "stderr",
     "output_type": "stream",
     "text": [
      "C:\\Users\\harsh\\AppData\\Local\\Temp\\ipykernel_24444\\264800860.py:8: LangChainDeprecationWarning: The method `BaseRetriever.get_relevant_documents` was deprecated in langchain-core 0.1.46 and will be removed in 1.0. Use invoke instead.\n",
      "  results = retriever.get_relevant_documents(\"One Drive\")\n"
     ]
    }
   ],
   "source": [
    "from langchain_community.vectorstores import DocArrayInMemorySearch\n",
    "from langchain_community.retrievers import BM25Retriever\n",
    "\n",
    "\n",
    "# Initialize a BM25 retriever from a list of documents (assumed to be LangChain Document objects)\n",
    "# 'pages' should be a list of Document objects loaded via loaders like PyPDFLoader\n",
    "retriever = BM25Retriever.from_documents(pages)\n",
    "results = retriever.get_relevant_documents(\"One Drive\")\n",
    "print(results)"
   ]
  },
  {
   "cell_type": "code",
   "execution_count": 11,
   "id": "749db727",
   "metadata": {},
   "outputs": [
    {
     "ename": "NameError",
     "evalue": "name 'SAMBA_API_KEY' is not defined",
     "output_type": "error",
     "traceback": [
      "\u001b[31m---------------------------------------------------------------------------\u001b[39m",
      "\u001b[31mNameError\u001b[39m                                 Traceback (most recent call last)",
      "\u001b[36mCell\u001b[39m\u001b[36m \u001b[39m\u001b[32mIn[11]\u001b[39m\u001b[32m, line 6\u001b[39m\n\u001b[32m      1\u001b[39m \u001b[38;5;66;03m# thi block doesn't have any use as the sambanova cloud dosn't support embeddings\u001b[39;00m\n\u001b[32m      3\u001b[39m \u001b[38;5;28;01mfrom\u001b[39;00m\u001b[38;5;250m \u001b[39m\u001b[34;01mlangchain_openai\u001b[39;00m\u001b[34;01m.\u001b[39;00m\u001b[34;01membeddings\u001b[39;00m\u001b[38;5;250m \u001b[39m\u001b[38;5;28;01mimport\u001b[39;00m OpenAIEmbeddings\n\u001b[32m      5\u001b[39m embeddings = OpenAIEmbeddings(\n\u001b[32m----> \u001b[39m\u001b[32m6\u001b[39m     openai_api_key=\u001b[43mSAMBA_API_KEY\u001b[49m,\n\u001b[32m      7\u001b[39m     base_url=\u001b[33m\"\u001b[39m\u001b[33mhttps://api.sambanova.ai/v1\u001b[39m\u001b[33m\"\u001b[39m,\n\u001b[32m      8\u001b[39m     model=\u001b[33m\"\u001b[39m\u001b[33mLlama-4-Maverick-17B-128E-Embeddings\u001b[39m\u001b[33m\"\u001b[39m  \u001b[38;5;66;03m# if available\u001b[39;00m\n\u001b[32m      9\u001b[39m )\n",
      "\u001b[31mNameError\u001b[39m: name 'SAMBA_API_KEY' is not defined"
     ]
    }
   ],
   "source": [
    "# thi block doesn't have any use as the sambanova cloud dosn't support embeddings\n",
    "\n",
    "from langchain_openai.embeddings import OpenAIEmbeddings\n",
    "\n",
    "embeddings = OpenAIEmbeddings(\n",
    "    openai_api_key=SAMBA_API_KEY,\n",
    "    base_url=\"https://api.sambanova.ai/v1\",\n",
    "    model=\"Llama-4-Maverick-17B-128E-Embeddings\"  # if available\n",
    ")"
   ]
  },
  {
   "cell_type": "code",
   "execution_count": 12,
   "id": "6c9db655",
   "metadata": {},
   "outputs": [],
   "source": [
    "# Use itemgetter to extract the 'question' from input, pass it to the retriever to fetch relevant context\n",
    "from operator import itemgetter\n",
    "\n",
    "# Pipe the outputs sequentially: context + question → prompt template → language model → output parser\n",
    "chain = (\n",
    "    {\n",
    "        \"context\": itemgetter(\"question\") | retriever,\n",
    "        \"question\": itemgetter(\"question\"),\n",
    "    }\n",
    "    | prompt\n",
    "    | model\n",
    "    | parser\n",
    ")"
   ]
  },
  {
   "cell_type": "code",
   "execution_count": 13,
   "id": "4e54af75",
   "metadata": {},
   "outputs": [
    {
     "name": "stdout",
     "output_type": "stream",
     "text": [
      "Question: What is Microsoft OneDrive and what does it help with?\n",
      "Answer: Microsoft OneDrive is a cloud storage service that helps with storing and protecting files, providing access to them from all devices, and backing them up. According to the context, it allows users to \"keep them protected, backed up, and accessible from all your devices, anywhere.\" It also provides features such as automatic camera roll backup, scanning and saving paper documents, and PC folder backup. Additionally, it offers a secured place for files and photos, with options for free storage or upgrading to Office 365 for more storage and premium features.\n",
      "\n",
      "Question: How can i access OneDrive on my phone?\n",
      "Answer: You can access OneDrive on your phone by using the OneDrive mobile app.\n",
      "\n",
      "Question: What is the easiest way to add files to OneDrive on a Computer?\n",
      "Answer: To determine the easiest way to add files to OneDrive on a computer based on the provided context, we should examine the content related to uploading or adding files to OneDrive.\n",
      "\n",
      "The context includes several documents from a PDF file (OD.pdf) across different pages. \n",
      "\n",
      "1. **Page 0** introduces Microsoft OneDrive and its general purpose.\n",
      "2. **Page 1** mentions \"Cloud storage\" and \"Learn how to upload files\" under the heading \"Cloud storage.\" It states that OneDrive provides a secured place for files and photos.\n",
      "3. **Page 2** talks about Office integration and sharing capabilities.\n",
      "4. **Page 3** discusses features of the OneDrive mobile app.\n",
      "\n",
      "The most relevant information for adding files to OneDrive on a computer is found on **Page 1**, under \"Cloud storage.\" It mentions learning how to upload files but doesn't specify the method.\n",
      "\n",
      "However, under \"PC folder backup\" on the same page, it explains that one can \"Turn on PC folder backup to automatically back up and sync your Desktop, Documents, and Pictures folders to OneDrive.\" This implies that one of the easiest ways to add files to OneDrive on a computer is by enabling PC folder backup, which automatically backs up and syncs specific folders.\n",
      "\n",
      "Therefore, based on the context provided, the easiest way to add files to OneDrive on a computer is by turning on PC folder backup, allowing for automatic backup and sync of the Desktop, Documents, and Pictures folders.\n",
      "\n",
      "Question: How can you share photos and album using OneDrive\n",
      "Answer: OneDrive allows you to share documents, folders, and photos with anyone. They don’t need an account to view, edit or collaborate in real-time on the file. This is mentioned in the page_content of Document(metadata={'source': 'OD.pdf', 'page': 2}). Therefore, you can share photos using OneDrive by sharing the folder or document containing the photos.\n",
      "\n",
      "Question: What is included with the Office 365 premium plan for OneDrive users\n",
      "Answer: Based on the provided context, the Office 365 premium plan for OneDrive users includes:\n",
      "\n",
      "1. 1 TB (1000 GB) of OneDrive storage\n",
      "2. The latest Office apps for PC and Mac\n",
      "3. Advanced security features\n",
      "4. Productivity tools\n",
      "\n",
      "These are mentioned in the page content from page 4 of the document 'OD.pdf'. \n",
      "\n",
      "Therefore, the answer to the question is that the premium plan includes 1 TB of storage, the latest Office apps, advanced security, and productivity tools.\n",
      "\n"
     ]
    }
   ],
   "source": [
    "questions = [\n",
    "    \"What is Microsoft OneDrive and what does it help with?\",\n",
    "    \"How can i access OneDrive on my phone?\",\n",
    "    \"What is the easiest way to add files to OneDrive on a Computer?\",\n",
    "    \"How can you share photos and album using OneDrive\",\n",
    "    \"What is included with the Office 365 premium plan for OneDrive users\",\n",
    "]\n",
    "\n",
    "for question in questions:\n",
    "    print(f\"Question: {question}\")\n",
    "    print(f\"Answer: {chain.invoke({'question': question})}\")\n",
    "    print()"
   ]
  }
 ],
 "metadata": {
  "kernelspec": {
   "display_name": ".venv",
   "language": "python",
   "name": "python3"
  },
  "language_info": {
   "codemirror_mode": {
    "name": "ipython",
    "version": 3
   },
   "file_extension": ".py",
   "mimetype": "text/x-python",
   "name": "python",
   "nbconvert_exporter": "python",
   "pygments_lexer": "ipython3",
   "version": "3.11.6"
  }
 },
 "nbformat": 4,
 "nbformat_minor": 5
}
